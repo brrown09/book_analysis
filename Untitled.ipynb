{
 "cells": [
  {
   "cell_type": "code",
   "execution_count": 1,
   "id": "204f42c5-4859-44a8-a9d8-10e9b0c59568",
   "metadata": {},
   "outputs": [],
   "source": [
    "with open(\"miracle_in_the_andes.txt\", \"r\", encoding = \"utf-8\") as file:\n",
    "    book = file.read()"
   ]
  },
  {
   "cell_type": "code",
   "execution_count": 2,
   "id": "4c4cc309-6345-433b-a582-9c4f11f96f9b",
   "metadata": {},
   "outputs": [
    {
     "data": {
      "text/plain": [
       "str"
      ]
     },
     "execution_count": 2,
     "metadata": {},
     "output_type": "execute_result"
    }
   ],
   "source": [
    "type(book)"
   ]
  },
  {
   "cell_type": "markdown",
   "id": "f47c1d55-cb2e-44bb-8fd5-2bcfffea309d",
   "metadata": {},
   "source": [
    "# How many books?"
   ]
  },
  {
   "cell_type": "markdown",
   "id": "daf949ac-7f7a-4c88-9505-0750529f35a6",
   "metadata": {},
   "source": [
    "### With string method."
   ]
  },
  {
   "cell_type": "code",
   "execution_count": 4,
   "id": "1f70e57a-2b5f-47d6-b678-a509f4bcbe71",
   "metadata": {},
   "outputs": [
    {
     "data": {
      "text/plain": [
       "11"
      ]
     },
     "execution_count": 4,
     "metadata": {},
     "output_type": "execute_result"
    }
   ],
   "source": [
    "book.count(\"Chapter\")"
   ]
  },
  {
   "cell_type": "markdown",
   "id": "67b18e4c-ff29-4173-a803-53c970e1b157",
   "metadata": {},
   "source": [
    "### with regular expression."
   ]
  },
  {
   "cell_type": "code",
   "execution_count": 5,
   "id": "ab6490b4-ad22-463f-a2bf-b367c9fb3f30",
   "metadata": {},
   "outputs": [],
   "source": [
    "import re"
   ]
  },
  {
   "cell_type": "code",
   "execution_count": 11,
   "id": "5f2a2ca7-7ffd-464d-b2f6-83c576fe4931",
   "metadata": {},
   "outputs": [
    {
     "data": {
      "text/plain": [
       "10"
      ]
     },
     "execution_count": 11,
     "metadata": {},
     "output_type": "execute_result"
    }
   ],
   "source": [
    "pattern = re.compile(\"Chapter [0-9]+\")\n",
    "findings = re.findall(pattern, book)\n",
    "len(findings)"
   ]
  }
 ],
 "metadata": {
  "kernelspec": {
   "display_name": "Python 3 (ipykernel)",
   "language": "python",
   "name": "python3"
  },
  "language_info": {
   "codemirror_mode": {
    "name": "ipython",
    "version": 3
   },
   "file_extension": ".py",
   "mimetype": "text/x-python",
   "name": "python",
   "nbconvert_exporter": "python",
   "pygments_lexer": "ipython3",
   "version": "3.11.4"
  }
 },
 "nbformat": 4,
 "nbformat_minor": 5
}
